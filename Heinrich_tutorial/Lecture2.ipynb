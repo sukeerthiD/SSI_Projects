{
 "cells": [
  {
   "cell_type": "markdown",
   "metadata": {},
   "source": [
    "# Distinguising Supersymmetric Particles from Background"
   ]
  },
  {
   "cell_type": "code",
   "execution_count": 1,
   "metadata": {},
   "outputs": [],
   "source": [
    "import torch\n",
    "import numpy as np\n",
    "import pandas as pd\n",
    "import matplotlib.pyplot as plt\n",
    "import numpy as np"
   ]
  },
  {
   "cell_type": "markdown",
   "metadata": {},
   "source": [
    "## Step 1: Load and Split the Data\n",
    "\n",
    "Write a function `load_and_split_data(filename, train_ratio=0.7)` whose functionality is to load and split the data\n",
    "for a specific ratio of train and validation data (we won't use a third test dataset for now, which we would need to make a final assessment)"
   ]
  },
  {
   "cell_type": "code",
   "execution_count": 2,
   "metadata": {},
   "outputs": [],
   "source": [
    "def load_and_split_data(filename, train_ratio=0.7):\n",
    "    data = pd.read_csv(filename).to_numpy()\n",
    "    maxidx = int(len(data) * train_ratio)\n",
    "    train_data = data[:maxidx]\n",
    "    valid_data = data[maxidx:]\n",
    "    return train_data, valid_data\n",
    "\n",
    "def make_data(dataset, N = 100):\n",
    "    dataX, datay = dataset[:,1:], dataset[:,:1]\n",
    "    idx = np.random.choice(np.arange(len(dataX)), size = N, replace=True)\n",
    "    return torch.FloatTensor(dataX[idx]), torch.FloatTensor(datay[idx])"
   ]
  },
  {
   "cell_type": "code",
   "execution_count": 3,
   "metadata": {},
   "outputs": [
    {
     "name": "stdout",
     "output_type": "stream",
     "text": [
      "  % Total    % Received % Xferd  Average Speed   Time    Time     Time  Current\n",
      "                                 Dload  Upload   Total   Spent    Left  Speed\n",
      "100 13.6M    0 13.6M    0     0  3334k      0 --:--:--  0:00:04 --:--:-- 3335k\n"
     ]
    }
   ],
   "source": [
    "! curl https://cernbox.cern.ch/s/5tNCYXcrW5Wd9xf/download -o SUSY_small.csv\n",
    "\n",
    "train_data, valid_data = load_and_split_data('SUSY_small.csv',0.7)"
   ]
  },
  {
   "cell_type": "markdown",
   "metadata": {},
   "source": [
    "## Visualize the Dataset\n",
    "\n",
    "It's always good to visualize the data before starting to do crazy machine learning with it. This is\n",
    "sometimes referred to as exploratory data analysis (EDA) and is useful to catch e.g. vastly diverging\n",
    "scales between features\n",
    "\n",
    "Visualize the 18 data features on 18 panels, where on each panel you have two histograms\n",
    "* the distribution of the feature for y == 0\n",
    "* the distribution of the feature for y == 1"
   ]
  },
  {
   "cell_type": "code",
   "execution_count": 4,
   "metadata": {},
   "outputs": [
    {
     "data": {
      "image/png": "[encoded data removed]",
      "text/plain": [
       "<Figure size 648x288 with 18 Axes>"
      ]
     },
     "metadata": {
      "needs_background": "light"
     },
     "output_type": "display_data"
    }
   ],
   "source": [
    "def plot_dataset(axarr,dataset):\n",
    "    dataX, datay = dataset[:,1:], dataset[:,:1]\n",
    "    for idx,ax in enumerate(axarr.ravel()[:dataset.shape[1]]):\n",
    "        _,bins,_ = ax.hist(dataX[datay[:,0]==0,idx], histtype = 'step', density = True)\n",
    "        _,bins,_ = ax.hist(dataX[datay[:,0]==1,idx], bins = bins, histtype = 'step', density = True)\n",
    "f,axarr = plt.subplots(3,6)\n",
    "plot_dataset(axarr,train_data)\n",
    "f.set_size_inches(9,4)\n",
    "f.set_tight_layout(True)"
   ]
  },
  {
   "cell_type": "markdown",
   "metadata": {},
   "source": [
    "## Create a function that creates a simple MLP\n",
    "\n",
    "The neural network should have width N hidden layers and use ReLU activations internally and finish up with a sigmoid activation\n"
   ]
  },
  {
   "cell_type": "code",
   "execution_count": 5,
   "metadata": {},
   "outputs": [],
   "source": [
    "def make_model(N = 512):\n",
    "    net = torch.nn.Sequential(\n",
    "        torch.nn.Linear(18,N),\n",
    "        torch.nn.ReLU(),\n",
    "        torch.nn.Linear(N,N),\n",
    "        torch.nn.ReLU(),\n",
    "        torch.nn.Linear(N,1),\n",
    "        torch.nn.Sigmoid()\n",
    "    )\n",
    "    return net"
   ]
  },
  {
   "cell_type": "markdown",
   "metadata": {},
   "source": [
    "## Create a Training Loop\n",
    "\n"
   ]
  },
  {
   "cell_type": "code",
   "execution_count": 6,
   "metadata": {},
   "outputs": [],
   "source": [
    "def train(train_data):\n",
    "    net = make_model()\n",
    "    opt = torch.optim.Adam(net.parameters(),1e-3)\n",
    "    traj = []\n",
    "    for i in range(3000):\n",
    "        X,Y = make_data(train_data, 1000)\n",
    "        p = net(X)\n",
    "        train_loss = torch.nn.functional.binary_cross_entropy(p,Y)\n",
    "        train_loss.backward()\n",
    "        opt.step()\n",
    "        opt.zero_grad()\n",
    "\n",
    "        traj.append(float(train_loss))\n",
    "        if i % 100  == 0:\n",
    "            print(f'step: {i} loss: {float(train_loss):.3f}')\n",
    "    traj = np.array(traj)\n",
    "    return net, traj"
   ]
  },
  {
   "cell_type": "markdown",
   "metadata": {},
   "source": [
    "## Train the Model"
   ]
  },
  {
   "cell_type": "code",
   "execution_count": 7,
   "metadata": {},
   "outputs": [
    {
     "name": "stdout",
     "output_type": "stream",
     "text": [
      "step: 0 loss: 0.686\n",
      "step: 100 loss: 0.413\n",
      "step: 200 loss: 0.447\n",
      "step: 300 loss: 0.415\n",
      "step: 400 loss: 0.457\n",
      "step: 500 loss: 0.428\n",
      "step: 600 loss: 0.424\n",
      "step: 700 loss: 0.420\n",
      "step: 800 loss: 0.382\n",
      "step: 900 loss: 0.410\n",
      "step: 1000 loss: 0.377\n",
      "step: 1100 loss: 0.371\n",
      "step: 1200 loss: 0.360\n",
      "step: 1300 loss: 0.357\n",
      "step: 1400 loss: 0.339\n",
      "step: 1500 loss: 0.398\n",
      "step: 1600 loss: 0.360\n",
      "step: 1700 loss: 0.379\n",
      "step: 1800 loss: 0.332\n",
      "step: 1900 loss: 0.352\n",
      "step: 2000 loss: 0.351\n",
      "step: 2100 loss: 0.303\n",
      "step: 2200 loss: 0.313\n",
      "step: 2300 loss: 0.320\n",
      "step: 2400 loss: 0.313\n",
      "step: 2500 loss: 0.282\n",
      "step: 2600 loss: 0.286\n",
      "step: 2700 loss: 0.311\n",
      "step: 2800 loss: 0.261\n",
      "step: 2900 loss: 0.256\n"
     ]
    },
    {
     "data": {
      "text/plain": [
       "[<matplotlib.lines.Line2D at 0x7fcaa609c5d0>]"
      ]
     },
     "execution_count": 7,
     "metadata": {},
     "output_type": "execute_result"
    },
    {
     "data": {
      "image/png": "[encoded data removed]",
      "text/plain": [
       "<Figure size 432x288 with 1 Axes>"
      ]
     },
     "metadata": {
      "needs_background": "light"
     },
     "output_type": "display_data"
    }
   ],
   "source": [
    "net, traj = train(train_data)\n",
    "plt.plot(pd.Series(traj).rolling(50).mean())"
   ]
  },
  {
   "cell_type": "markdown",
   "metadata": {},
   "source": [
    "## Wait a minute - Evaluate the True Performance"
   ]
  },
  {
   "cell_type": "code",
   "execution_count": 8,
   "metadata": {},
   "outputs": [],
   "source": [
    "def eval_model(net, data):\n",
    "    with torch.no_grad():\n",
    "        X,Y = make_data(data, 1000)\n",
    "        p = net(X)\n",
    "        loss = torch.nn.functional.binary_cross_entropy(p,Y)\n",
    "    return loss"
   ]
  },
  {
   "cell_type": "code",
   "execution_count": 9,
   "metadata": {},
   "outputs": [
    {
     "data": {
      "text/plain": [
       "tensor(0.5862)"
      ]
     },
     "execution_count": 9,
     "metadata": {},
     "output_type": "execute_result"
    }
   ],
   "source": [
    "eval_model(net, valid_data)"
   ]
  },
  {
   "cell_type": "markdown",
   "metadata": {},
   "source": [
    "## 👀 - seems like we can't trust the train performance\n",
    "\n",
    "Write an improved training loop that also tracks the validation performance"
   ]
  },
  {
   "cell_type": "code",
   "execution_count": 10,
   "metadata": {},
   "outputs": [
    {
     "name": "stdout",
     "output_type": "stream",
     "text": [
      "step: 0 loss: 0.697\n",
      "step: 100 loss: 0.452\n",
      "step: 200 loss: 0.474\n",
      "step: 300 loss: 0.384\n",
      "step: 400 loss: 0.404\n",
      "step: 500 loss: 0.452\n",
      "step: 600 loss: 0.464\n",
      "step: 700 loss: 0.416\n",
      "step: 800 loss: 0.396\n",
      "step: 900 loss: 0.406\n",
      "step: 1000 loss: 0.422\n",
      "step: 1100 loss: 0.389\n",
      "step: 1200 loss: 0.381\n",
      "step: 1300 loss: 0.408\n",
      "step: 1400 loss: 0.367\n",
      "step: 1500 loss: 0.347\n",
      "step: 1600 loss: 0.378\n",
      "step: 1700 loss: 0.331\n",
      "step: 1800 loss: 0.382\n",
      "step: 1900 loss: 0.329\n",
      "step: 2000 loss: 0.335\n",
      "step: 2100 loss: 0.317\n",
      "step: 2200 loss: 0.318\n",
      "step: 2300 loss: 0.343\n",
      "step: 2400 loss: 0.312\n",
      "step: 2500 loss: 0.311\n",
      "step: 2600 loss: 0.267\n",
      "step: 2700 loss: 0.315\n",
      "step: 2800 loss: 0.303\n",
      "step: 2900 loss: 0.271\n"
     ]
    },
    {
     "data": {
      "image/png": "[encoded data removed]",
      "text/plain": [
       "<Figure size 288x288 with 1 Axes>"
      ]
     },
     "metadata": {
      "needs_background": "light"
     },
     "output_type": "display_data"
    }
   ],
   "source": [
    "def train(train_data, test_data):\n",
    "    net = make_model()\n",
    "    opt = torch.optim.Adam(net.parameters(),1e-3)\n",
    "    traj = []\n",
    "    for i in range(3000):\n",
    "        X,Y = make_data(train_data, 1000)\n",
    "        p = net(X)\n",
    "        train_loss = torch.nn.functional.binary_cross_entropy(p,Y)\n",
    "        train_loss.backward()\n",
    "        opt.step()\n",
    "        opt.zero_grad()\n",
    "\n",
    "        test_loss = eval_model(net, test_data)\n",
    "\n",
    "\n",
    "\n",
    "        traj.append([float(train_loss), float(test_loss)])\n",
    "        if i % 100  == 0:\n",
    "            print(f'step: {i} loss: {float(train_loss):.3f}')\n",
    "    traj = np.array(traj)\n",
    "    return net, traj\n",
    "\n",
    "net, traj = train(train_data, valid_data)\n",
    "plt.plot(pd.Series(traj[:,0]).rolling(50).mean())\n",
    "plt.plot(pd.Series(traj[:,1]).rolling(50).mean())\n",
    "plt.gcf().set_size_inches(4,4)"
   ]
  },
  {
   "cell_type": "markdown",
   "metadata": {},
   "source": [
    "## Getting the ROC curve"
   ]
  },
  {
   "cell_type": "code",
   "execution_count": 11,
   "metadata": {},
   "outputs": [
    {
     "data": {
      "image/png": "[encoded data removed]",
      "text/plain": [
       "<Figure size 432x216 with 2 Axes>"
      ]
     },
     "metadata": {
      "needs_background": "light"
     },
     "output_type": "display_data"
    }
   ],
   "source": [
    "import sklearn.metrics as metrics\n",
    "def plot_distribution(dataset, model):\n",
    "    f, axarr = plt.subplots(1,2)\n",
    "    f.set_size_inches(6,3)\n",
    "    X,Y = make_data(dataset, 1000)\n",
    "    with torch.no_grad():\n",
    "        p = net(X)\n",
    "    bins = np.linspace(0,1,31)\n",
    "    ax = axarr[0]\n",
    "    ax.hist(p[Y==0], histtype = 'step', bins = bins)\n",
    "    ax.hist(p[Y==1], histtype = 'step', bins = bins)\n",
    "    \n",
    "    ax = axarr[1]\n",
    "    a,b,c = metrics.roc_curve(Y,p)\n",
    "    ax.plot(a,b)\n",
    "\n",
    "plot_distribution(train_data, net)"
   ]
  },
  {
   "cell_type": "code",
   "execution_count": null,
   "metadata": {},
   "outputs": [],
   "source": []
  },
  {
   "cell_type": "code",
   "execution_count": null,
   "metadata": {},
   "outputs": [],
   "source": []
  }
 ],
 "metadata": {
  "kernelspec": {
   "display_name": "CDMS V04-00",
   "language": "python",
   "name": "cdms_v04-00"
  },
  "language_info": {
   "codemirror_mode": {
    "name": "ipython",
    "version": 3
   },
   "file_extension": ".py",
   "mimetype": "text/x-python",
   "name": "python",
   "nbconvert_exporter": "python",
   "pygments_lexer": "ipython3",
   "version": "3.7.6"
  }
 },
 "nbformat": 4,
 "nbformat_minor": 5
}
